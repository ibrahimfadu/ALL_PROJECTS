{
 "cells": [
  {
   "cell_type": "code",
   "execution_count": 1,
   "id": "03c2bdf3-39de-41a9-8d31-ec769a1314d6",
   "metadata": {},
   "outputs": [],
   "source": [
    "import pandas as pd\n",
    "import numpy as np\n",
    "import warnings\n",
    "warnings.filterwarnings(\"ignore\")"
   ]
  },
  {
   "cell_type": "code",
   "execution_count": 7,
   "id": "01331f91-9cfe-4ff7-90b0-e0e33664869f",
   "metadata": {},
   "outputs": [],
   "source": [
    "df=pd.read_csv(\"/home/ibrahimfadu/ALL_PROJECTS/Diploma_collage_prediction/data/comple_n1.csv\")"
   ]
  },
  {
   "cell_type": "code",
   "execution_count": 8,
   "id": "0ee07447-f428-45c7-9587-0658ed67cc46",
   "metadata": {},
   "outputs": [
    {
     "data": {
      "text/html": [
       "<div>\n",
       "<style scoped>\n",
       "    .dataframe tbody tr th:only-of-type {\n",
       "        vertical-align: middle;\n",
       "    }\n",
       "\n",
       "    .dataframe tbody tr th {\n",
       "        vertical-align: top;\n",
       "    }\n",
       "\n",
       "    .dataframe thead th {\n",
       "        text-align: right;\n",
       "    }\n",
       "</style>\n",
       "<table border=\"1\" class=\"dataframe\">\n",
       "  <thead>\n",
       "    <tr style=\"text-align: right;\">\n",
       "      <th></th>\n",
       "      <th>COLLEGE</th>\n",
       "      <th>BRANCH</th>\n",
       "      <th>CATEGORIES</th>\n",
       "      <th>RANKING</th>\n",
       "    </tr>\n",
       "  </thead>\n",
       "  <tbody>\n",
       "    <tr>\n",
       "      <th>0</th>\n",
       "      <td>University of Visvesvaraya College of Engineering</td>\n",
       "      <td>AI Artificial Intelligence</td>\n",
       "      <td>2AG</td>\n",
       "      <td>475</td>\n",
       "    </tr>\n",
       "    <tr>\n",
       "      <th>1</th>\n",
       "      <td>University of Visvesvaraya College of Engineering</td>\n",
       "      <td>AI Artificial Intelligence</td>\n",
       "      <td>GM</td>\n",
       "      <td>355</td>\n",
       "    </tr>\n",
       "    <tr>\n",
       "      <th>2</th>\n",
       "      <td>University of Visvesvaraya College of Engineering</td>\n",
       "      <td>AI Artificial Intelligence</td>\n",
       "      <td>SCG</td>\n",
       "      <td>670</td>\n",
       "    </tr>\n",
       "    <tr>\n",
       "      <th>3</th>\n",
       "      <td>University of Visvesvaraya College of Engineering</td>\n",
       "      <td>AI Artificial Intelligence</td>\n",
       "      <td>GMR</td>\n",
       "      <td>0</td>\n",
       "    </tr>\n",
       "    <tr>\n",
       "      <th>4</th>\n",
       "      <td>University of Visvesvaraya College of Engineering</td>\n",
       "      <td>AI Artificial Intelligence</td>\n",
       "      <td>SCR</td>\n",
       "      <td>0</td>\n",
       "    </tr>\n",
       "  </tbody>\n",
       "</table>\n",
       "</div>"
      ],
      "text/plain": [
       "                                             COLLEGE  \\\n",
       "0  University of Visvesvaraya College of Engineering   \n",
       "1  University of Visvesvaraya College of Engineering   \n",
       "2  University of Visvesvaraya College of Engineering   \n",
       "3  University of Visvesvaraya College of Engineering   \n",
       "4  University of Visvesvaraya College of Engineering   \n",
       "\n",
       "                       BRANCH CATEGORIES  RANKING  \n",
       "0  AI Artificial Intelligence        2AG      475  \n",
       "1  AI Artificial Intelligence         GM      355  \n",
       "2  AI Artificial Intelligence        SCG      670  \n",
       "3  AI Artificial Intelligence        GMR        0  \n",
       "4  AI Artificial Intelligence        SCR        0  "
      ]
     },
     "execution_count": 8,
     "metadata": {},
     "output_type": "execute_result"
    }
   ],
   "source": [
    "df.head()"
   ]
  },
  {
   "cell_type": "code",
   "execution_count": 9,
   "id": "4dc5e5e8-5fbf-4cff-b176-b3b3aa64b8e3",
   "metadata": {},
   "outputs": [
    {
     "data": {
      "text/plain": [
       "(108, 4)"
      ]
     },
     "execution_count": 9,
     "metadata": {},
     "output_type": "execute_result"
    }
   ],
   "source": [
    "df.shape"
   ]
  },
  {
   "cell_type": "code",
   "execution_count": 11,
   "id": "173e7a2a-4a0c-4190-99b4-905c4d2d3e73",
   "metadata": {},
   "outputs": [
    {
     "data": {
      "text/plain": [
       "COLLEGE\n",
       "University of Visvesvaraya College of Engineering    36\n",
       "R. V. College of Engineering                         36\n",
       "Dayananda Sagar College of Engineering               36\n",
       "Name: count, dtype: int64"
      ]
     },
     "execution_count": 11,
     "metadata": {},
     "output_type": "execute_result"
    }
   ],
   "source": [
    "df['COLLEGE'].value_counts()"
   ]
  },
  {
   "cell_type": "code",
   "execution_count": 12,
   "id": "25dcf34c-a381-4014-8a17-8ec872e90049",
   "metadata": {},
   "outputs": [
    {
     "data": {
      "text/plain": [
       "BRANCH\n",
       "AI Artificial Intelligence    18\n",
       "CE Civil                      18\n",
       "CS Computers                  18\n",
       "EC Electronics                18\n",
       "EE Electrical                 18\n",
       "ME Mechanical                 18\n",
       "Name: count, dtype: int64"
      ]
     },
     "execution_count": 12,
     "metadata": {},
     "output_type": "execute_result"
    }
   ],
   "source": [
    "df['BRANCH'].value_counts()"
   ]
  },
  {
   "cell_type": "code",
   "execution_count": 13,
   "id": "3f0e781f-0a1e-413d-8495-0582bb3a56ba",
   "metadata": {},
   "outputs": [
    {
     "data": {
      "text/plain": [
       "CATEGORIES\n",
       "2AG    18\n",
       "GM     18\n",
       "SCG    18\n",
       "GMR    18\n",
       "SCR    18\n",
       "STG    18\n",
       "Name: count, dtype: int64"
      ]
     },
     "execution_count": 13,
     "metadata": {},
     "output_type": "execute_result"
    }
   ],
   "source": [
    "df['CATEGORIES'].value_counts()"
   ]
  },
  {
   "cell_type": "code",
   "execution_count": 14,
   "id": "ab525363-14ef-4e27-9789-e8b45e23b9cc",
   "metadata": {},
   "outputs": [],
   "source": [
    "df_copy=df.copy()"
   ]
  },
  {
   "cell_type": "code",
   "execution_count": 16,
   "id": "cbbd6d45-1bfb-4c93-ac9f-06607f7cf16e",
   "metadata": {},
   "outputs": [],
   "source": [
    "x=df_copy.drop('COLLEGE',axis=1)\n",
    "y=df_copy[\"COLLEGE\"]"
   ]
  },
  {
   "cell_type": "code",
   "execution_count": 17,
   "id": "56d59124-a67e-4e22-a0c3-2c86483985b6",
   "metadata": {},
   "outputs": [
    {
     "data": {
      "text/html": [
       "<div>\n",
       "<style scoped>\n",
       "    .dataframe tbody tr th:only-of-type {\n",
       "        vertical-align: middle;\n",
       "    }\n",
       "\n",
       "    .dataframe tbody tr th {\n",
       "        vertical-align: top;\n",
       "    }\n",
       "\n",
       "    .dataframe thead th {\n",
       "        text-align: right;\n",
       "    }\n",
       "</style>\n",
       "<table border=\"1\" class=\"dataframe\">\n",
       "  <thead>\n",
       "    <tr style=\"text-align: right;\">\n",
       "      <th></th>\n",
       "      <th>BRANCH</th>\n",
       "      <th>CATEGORIES</th>\n",
       "      <th>RANKING</th>\n",
       "    </tr>\n",
       "  </thead>\n",
       "  <tbody>\n",
       "    <tr>\n",
       "      <th>0</th>\n",
       "      <td>AI Artificial Intelligence</td>\n",
       "      <td>2AG</td>\n",
       "      <td>475</td>\n",
       "    </tr>\n",
       "    <tr>\n",
       "      <th>1</th>\n",
       "      <td>AI Artificial Intelligence</td>\n",
       "      <td>GM</td>\n",
       "      <td>355</td>\n",
       "    </tr>\n",
       "    <tr>\n",
       "      <th>2</th>\n",
       "      <td>AI Artificial Intelligence</td>\n",
       "      <td>SCG</td>\n",
       "      <td>670</td>\n",
       "    </tr>\n",
       "    <tr>\n",
       "      <th>3</th>\n",
       "      <td>AI Artificial Intelligence</td>\n",
       "      <td>GMR</td>\n",
       "      <td>0</td>\n",
       "    </tr>\n",
       "    <tr>\n",
       "      <th>4</th>\n",
       "      <td>AI Artificial Intelligence</td>\n",
       "      <td>SCR</td>\n",
       "      <td>0</td>\n",
       "    </tr>\n",
       "    <tr>\n",
       "      <th>...</th>\n",
       "      <td>...</td>\n",
       "      <td>...</td>\n",
       "      <td>...</td>\n",
       "    </tr>\n",
       "    <tr>\n",
       "      <th>103</th>\n",
       "      <td>ME Mechanical</td>\n",
       "      <td>GM</td>\n",
       "      <td>1861</td>\n",
       "    </tr>\n",
       "    <tr>\n",
       "      <th>104</th>\n",
       "      <td>ME Mechanical</td>\n",
       "      <td>SCG</td>\n",
       "      <td>2868</td>\n",
       "    </tr>\n",
       "    <tr>\n",
       "      <th>105</th>\n",
       "      <td>ME Mechanical</td>\n",
       "      <td>GMR</td>\n",
       "      <td>0</td>\n",
       "    </tr>\n",
       "    <tr>\n",
       "      <th>106</th>\n",
       "      <td>ME Mechanical</td>\n",
       "      <td>SCR</td>\n",
       "      <td>0</td>\n",
       "    </tr>\n",
       "    <tr>\n",
       "      <th>107</th>\n",
       "      <td>ME Mechanical</td>\n",
       "      <td>STG</td>\n",
       "      <td>4337</td>\n",
       "    </tr>\n",
       "  </tbody>\n",
       "</table>\n",
       "<p>108 rows × 3 columns</p>\n",
       "</div>"
      ],
      "text/plain": [
       "                         BRANCH CATEGORIES  RANKING\n",
       "0    AI Artificial Intelligence        2AG      475\n",
       "1    AI Artificial Intelligence         GM      355\n",
       "2    AI Artificial Intelligence        SCG      670\n",
       "3    AI Artificial Intelligence        GMR        0\n",
       "4    AI Artificial Intelligence        SCR        0\n",
       "..                          ...        ...      ...\n",
       "103               ME Mechanical         GM     1861\n",
       "104               ME Mechanical        SCG     2868\n",
       "105               ME Mechanical        GMR        0\n",
       "106               ME Mechanical        SCR        0\n",
       "107               ME Mechanical        STG     4337\n",
       "\n",
       "[108 rows x 3 columns]"
      ]
     },
     "execution_count": 17,
     "metadata": {},
     "output_type": "execute_result"
    }
   ],
   "source": [
    "x"
   ]
  },
  {
   "cell_type": "code",
   "execution_count": null,
   "id": "0a3e36d2-79e6-4219-a414-0d52754be8b4",
   "metadata": {},
   "outputs": [],
   "source": []
  }
 ],
 "metadata": {
  "kernelspec": {
   "display_name": "Python 3 (ipykernel)",
   "language": "python",
   "name": "python3"
  },
  "language_info": {
   "codemirror_mode": {
    "name": "ipython",
    "version": 3
   },
   "file_extension": ".py",
   "mimetype": "text/x-python",
   "name": "python",
   "nbconvert_exporter": "python",
   "pygments_lexer": "ipython3",
   "version": "3.11.7"
  }
 },
 "nbformat": 4,
 "nbformat_minor": 5
}
