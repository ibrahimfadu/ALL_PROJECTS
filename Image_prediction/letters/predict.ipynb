{
 "cells": [
  {
   "cell_type": "code",
   "execution_count": 1,
   "id": "9ca68366-d25c-434c-9397-264efb17faa5",
   "metadata": {},
   "outputs": [],
   "source": [
    "import joblib\n",
    "import numpy as np\n",
    "import warnings\n",
    "warnings.filterwarnings(\"ignore\")\n",
    "from PIL import Image\n",
    "import cv2\n",
    "import matplotlib.pyplot as plt"
   ]
  },
  {
   "cell_type": "code",
   "execution_count": 2,
   "id": "a77b366d-4f8e-406b-a5c6-946a51f771b9",
   "metadata": {},
   "outputs": [],
   "source": [
    "#image preprocessing\n",
    "\n",
    "#load image\n",
    "def process(path):\n",
    "    image=Image.open(path).convert(\"L\").resize((28,28))#gray scaling using convert, resize image\n",
    "    image_rev=np.invert(image)#change background white to black\n",
    "    final_img=image_rev.flatten()\n",
    "    return final_img\n",
    "def plot(image):\n",
    "    #plot\n",
    "    image=image.reshape(28,28)\n",
    "    plt.imshow(image)\n",
    "    plt.axis(\"off\")\n",
    "    plt.show()"
   ]
  },
  {
   "cell_type": "code",
   "execution_count": 5,
   "id": "106c7aa0-eb4f-4af1-b591-30e7a1925b41",
   "metadata": {},
   "outputs": [
    {
     "data": {
      "image/png": "[encoded data removed]",
      "text/plain": [
       "<Figure size 640x480 with 1 Axes>"
      ]
     },
     "metadata": {},
     "output_type": "display_data"
    }
   ],
   "source": [
    "final_process=process('hand/four.png')\n",
    "plot(final_process)"
   ]
  },
  {
   "cell_type": "code",
   "execution_count": 6,
   "id": "f0bd06fa-d135-4d86-b1cc-18454a7e4c68",
   "metadata": {},
   "outputs": [
    {
     "data": {
      "text/plain": [
       "array([5], dtype=uint8)"
      ]
     },
     "execution_count": 6,
     "metadata": {},
     "output_type": "execute_result"
    }
   ],
   "source": [
    "#feed to model\n",
    "model=joblib.load('model_kkn.pkl')\n",
    "model.predict([final_process])"
   ]
  },
  {
   "cell_type": "code",
   "execution_count": null,
   "id": "dd9f66a2-05e1-4639-b76c-06cd5e857541",
   "metadata": {},
   "outputs": [],
   "source": []
  }
 ],
 "metadata": {
  "kernelspec": {
   "display_name": "Python 3 (ipykernel)",
   "language": "python",
   "name": "python3"
  },
  "language_info": {
   "codemirror_mode": {
    "name": "ipython",
    "version": 3
   },
   "file_extension": ".py",
   "mimetype": "text/x-python",
   "name": "python",
   "nbconvert_exporter": "python",
   "pygments_lexer": "ipython3",
   "version": "3.11.7"
  }
 },
 "nbformat": 4,
 "nbformat_minor": 5
}
