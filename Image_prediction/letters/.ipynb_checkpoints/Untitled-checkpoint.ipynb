{
 "cells": [
  {
   "cell_type": "code",
   "execution_count": 8,
   "id": "314c6fcb-12ba-4a36-acce-68dceb9053a2",
   "metadata": {},
   "outputs": [
    {
     "name": "stdout",
     "output_type": "stream",
     "text": [
      "sorry\n"
     ]
    }
   ],
   "source": [
    "#custom exception\n",
    "class Error(Exception):\n",
    "    pass\n",
    "class dobException(Error):\n",
    "    print(\"sorry\")"
   ]
  },
  {
   "cell_type": "code",
   "execution_count": 12,
   "id": "ebb2ec2b-1b10-4593-a687-ccbbd73db091",
   "metadata": {},
   "outputs": [
    {
     "name": "stdin",
     "output_type": "stream",
     "text": [
      "Enter the Year of Birth 34\n"
     ]
    },
    {
     "name": "stdout",
     "output_type": "stream",
     "text": [
      "The year age is not valid\n"
     ]
    }
   ],
   "source": [
    "year=int(input(\"Enter the Year of Birth\"))\n",
    "\n",
    "try:\n",
    "    if year<=30 & age>20:\n",
    "        print(\"The age is valid can apply for the exams\",year)\n",
    "    else:\n",
    "        print(\"hello\")\n",
    "except dobException:\n",
    "    print(\"The year age is not valid\")"
   ]
  },
  {
   "cell_type": "code",
   "execution_count": null,
   "id": "becac6fe-c457-489c-9d52-82052b6aa8cc",
   "metadata": {},
   "outputs": [],
   "source": []
  }
 ],
 "metadata": {
  "kernelspec": {
   "display_name": "Python 3 (ipykernel)",
   "language": "python",
   "name": "python3"
  },
  "language_info": {
   "codemirror_mode": {
    "name": "ipython",
    "version": 3
   },
   "file_extension": ".py",
   "mimetype": "text/x-python",
   "name": "python",
   "nbconvert_exporter": "python",
   "pygments_lexer": "ipython3",
   "version": "3.11.7"
  }
 },
 "nbformat": 4,
 "nbformat_minor": 5
}
